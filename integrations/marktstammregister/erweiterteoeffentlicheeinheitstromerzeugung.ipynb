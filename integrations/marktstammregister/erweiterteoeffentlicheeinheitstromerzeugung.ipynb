version https://git-lfs.github.com/spec/v1
oid sha256:754a3338b72d274a54bdaa00d01311af36593af19e163b1eb60ab996f9b6efdd
size 9708
