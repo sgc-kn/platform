version https://git-lfs.github.com/spec/v1
oid sha256:5227b60897aa5073b5d2d35d06045b187a03d42e67be7ed4b24b1c7387ef5c26
size 5191
