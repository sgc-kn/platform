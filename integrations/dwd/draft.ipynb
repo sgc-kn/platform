version https://git-lfs.github.com/spec/v1
oid sha256:344315d2cda3734063ebb0fb100e9f25f2f0d2cc5dd82568a48c372aa22715b1
size 69415
