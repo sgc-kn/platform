version https://git-lfs.github.com/spec/v1
oid sha256:63fd8e038ca14d15dd1352c00ce96783a2bb75ae12cfdb598789c82295cf7731
size 3418
