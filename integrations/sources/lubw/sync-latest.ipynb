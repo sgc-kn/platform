version https://git-lfs.github.com/spec/v1
oid sha256:c6ebd02ccaacb725f4f11c0a48fb9b54f58b85d05d7e3250bea03a30991918b5
size 29911
