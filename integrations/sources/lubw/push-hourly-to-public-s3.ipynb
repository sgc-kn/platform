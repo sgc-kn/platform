version https://git-lfs.github.com/spec/v1
oid sha256:739aaf7a12ddd63c4659ff0003c412b05eceb2b9e0e7c3dceb584b8bd6ffa090
size 9412
