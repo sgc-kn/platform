version https://git-lfs.github.com/spec/v1
oid sha256:00d6f216ddd4ad092e05dd1da0180422a9254f5881b636e39af4ddadb3c2749e
size 19900
