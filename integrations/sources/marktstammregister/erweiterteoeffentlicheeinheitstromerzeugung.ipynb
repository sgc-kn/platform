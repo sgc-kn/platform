version https://git-lfs.github.com/spec/v1
oid sha256:f96f78a74230b270a1db42f528ce282c834841cd5a0628f49b809234faa2d578
size 52287
