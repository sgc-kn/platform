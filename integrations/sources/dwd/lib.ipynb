version https://git-lfs.github.com/spec/v1
oid sha256:0bb2f0c42f01d59dc89703c1d1fbf273539073cc32cb22b57b5167ae974397d6
size 27043
