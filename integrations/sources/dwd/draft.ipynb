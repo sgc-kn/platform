version https://git-lfs.github.com/spec/v1
oid sha256:72f791b4f8abd25dbc88bf22cae15fba43bdd2a0cd55c89c44ad93920e14bdb0
size 103776
