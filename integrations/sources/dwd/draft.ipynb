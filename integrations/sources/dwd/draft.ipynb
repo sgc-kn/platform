version https://git-lfs.github.com/spec/v1
oid sha256:bd441d5442273286bbbc375c5aef39c6919ba1c0cd738c40038c7f7bbbf8427a
size 69428
