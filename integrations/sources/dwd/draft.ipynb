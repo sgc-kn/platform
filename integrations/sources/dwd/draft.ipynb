version https://git-lfs.github.com/spec/v1
oid sha256:bfdc3ff7c41b433ccfa5e3baf88f5eacfe96d3b59563941525d8e0d211cce539
size 134229
