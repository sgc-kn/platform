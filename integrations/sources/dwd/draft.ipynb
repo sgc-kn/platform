version https://git-lfs.github.com/spec/v1
oid sha256:832fae4b8a6cefc7be9f50b12bda0b62a64092d26fc3eb7cfe6b2f69e5052231
size 40058
