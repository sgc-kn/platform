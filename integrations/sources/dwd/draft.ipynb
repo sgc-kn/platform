version https://git-lfs.github.com/spec/v1
oid sha256:72f2addb43e43d251f06cbdda39c8202e8a679264a9d591e1d1735bd13c7afad
size 101756
