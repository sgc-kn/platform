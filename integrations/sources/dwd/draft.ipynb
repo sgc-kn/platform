version https://git-lfs.github.com/spec/v1
oid sha256:683c819f79d20b3586c421c6e5352137a40527979a1b1f9214dbe88deaba6fcc
size 99847
