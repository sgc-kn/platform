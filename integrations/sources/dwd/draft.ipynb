version https://git-lfs.github.com/spec/v1
oid sha256:ea2ee517a925c3724e8c78c6164c3f656257b861605b74fd3e7c8b13fd52cc2e
size 36221
