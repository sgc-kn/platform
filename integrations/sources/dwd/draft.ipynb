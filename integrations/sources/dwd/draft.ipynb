version https://git-lfs.github.com/spec/v1
oid sha256:222f82d65f218a5ac02ef8dbd2be96cc5114fc8687d9595df474894bd67e9bbf
size 101409
