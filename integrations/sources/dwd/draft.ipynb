version https://git-lfs.github.com/spec/v1
oid sha256:53f25c2473b8818702ba0c12ad8c26c67ca9c1f470790095ba062985f16fc611
size 98226
