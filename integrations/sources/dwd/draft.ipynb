version https://git-lfs.github.com/spec/v1
oid sha256:888f1ef44e9309f61e5143c7fda086f7868a12ffb53f3d2d43df790ffa0a108c
size 20796
