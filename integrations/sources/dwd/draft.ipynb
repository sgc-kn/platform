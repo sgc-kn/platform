version https://git-lfs.github.com/spec/v1
oid sha256:87cb9584bce4a327058949fa44b7bcd588eebef57278c79c2e487aaee2287f32
size 62487
