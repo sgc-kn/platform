version https://git-lfs.github.com/spec/v1
oid sha256:cd7d1d3d91d75d5a8727e300bb33eed6a7e00a0b03cbdd1b591c555ea8ffadff
size 102053
