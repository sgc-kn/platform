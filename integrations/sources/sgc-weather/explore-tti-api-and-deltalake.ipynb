version https://git-lfs.github.com/spec/v1
oid sha256:f530896151c1fbc4eff37453ebb5e0e5bf0ccc31b47003bd9ddb6f24b7d47873
size 22046
