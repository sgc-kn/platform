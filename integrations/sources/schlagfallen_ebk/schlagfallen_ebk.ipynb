version https://git-lfs.github.com/spec/v1
oid sha256:9c0b43386f16dcd05030787ec0116f576da9bc90f0b4e1198013088c4996feab
size 6589
