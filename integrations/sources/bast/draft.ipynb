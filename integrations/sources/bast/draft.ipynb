version https://git-lfs.github.com/spec/v1
oid sha256:22e2f246da578f86c3c6c97e20af9ad5fe458777d77bf86cbaeaf818b24a2a05
size 65920
