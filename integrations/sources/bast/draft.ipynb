version https://git-lfs.github.com/spec/v1
oid sha256:10acd56a9510a5fdfb65da56a002cd7b7ea7cd53ef9949f81dc8d0d81a4376df
size 64260
