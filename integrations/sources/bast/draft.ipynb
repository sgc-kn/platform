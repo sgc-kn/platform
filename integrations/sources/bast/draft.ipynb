version https://git-lfs.github.com/spec/v1
oid sha256:183aa93a89be3830fc6e7a352e94f1223b92fdcdadd6a5cd389005b9f6fabcb8
size 64442
