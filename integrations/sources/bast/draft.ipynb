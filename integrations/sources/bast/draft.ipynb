version https://git-lfs.github.com/spec/v1
oid sha256:ec0ea5cc7507be0e768f54d13cfb913d954a7ffe11b2942e5efbd0de47bb04bf
size 76726
