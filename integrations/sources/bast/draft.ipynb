version https://git-lfs.github.com/spec/v1
oid sha256:68b04d62ae66ffc3e85eeb9a7866d5bdff07316d8d0799c326e101806c180098
size 64143
