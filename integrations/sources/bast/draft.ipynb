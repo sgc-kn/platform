version https://git-lfs.github.com/spec/v1
oid sha256:831675a18cd76c1c95682f5ffd205e6a5edfbbd4aafa4a68a4313e831ef4aa92
size 77961
