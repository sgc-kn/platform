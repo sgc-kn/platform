version https://git-lfs.github.com/spec/v1
oid sha256:a8aa7ef367bae65adf326da0e5d89e283cbb2ca4d58fbbea7a339162a82354dd
size 67184
