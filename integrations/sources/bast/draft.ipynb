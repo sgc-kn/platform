version https://git-lfs.github.com/spec/v1
oid sha256:abfbf80b0d584789f3b29822db4d402ae94533afa07ae9ae1c863e2cad626360
size 71016
