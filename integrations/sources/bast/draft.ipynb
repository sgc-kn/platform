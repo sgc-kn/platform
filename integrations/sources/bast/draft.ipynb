version https://git-lfs.github.com/spec/v1
oid sha256:abfb57dfe12e3e8156e05cf221c4deda95ed2a85576d07dcf7bef99442746bf6
size 64496
