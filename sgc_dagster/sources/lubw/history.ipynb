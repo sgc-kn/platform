version https://git-lfs.github.com/spec/v1
oid sha256:4463be4e4781ab5a102fe8c12510c0f13dfed949ce02993b5d488087e28b62d2
size 21773
