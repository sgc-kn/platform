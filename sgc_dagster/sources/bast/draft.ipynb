version https://git-lfs.github.com/spec/v1
oid sha256:ec2a1bf559d28f8d2fdafe27a3740a243b62c027d05772255940e61046423897
size 72669
