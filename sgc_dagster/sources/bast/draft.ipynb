version https://git-lfs.github.com/spec/v1
oid sha256:b7e85187f4833ea14b489b90de9367163f9362668d1fcad33623b4779fcb7f58
size 67382
