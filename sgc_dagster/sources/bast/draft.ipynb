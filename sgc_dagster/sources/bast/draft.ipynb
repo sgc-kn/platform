version https://git-lfs.github.com/spec/v1
oid sha256:6c0995e7f6b469efb6aece5408b4b739b05929d54fb340a0e7b4f2235a40fa75
size 70441
