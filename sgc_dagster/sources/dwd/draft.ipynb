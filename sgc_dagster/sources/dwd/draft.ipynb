version https://git-lfs.github.com/spec/v1
oid sha256:a2e68f862fa53cc6f4033ebdea0b9842aaa3a3a3de00e6102b8e1103d704f475
size 14824
