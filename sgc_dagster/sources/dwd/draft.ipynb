version https://git-lfs.github.com/spec/v1
oid sha256:cd15db8fd28fa2049b4781ab3deb44e9420b71eca1ff6eeea25c09edbcd02e38
size 48835
