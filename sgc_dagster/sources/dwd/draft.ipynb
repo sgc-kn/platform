version https://git-lfs.github.com/spec/v1
oid sha256:d50e613dba233430d727811ba8ec208d616658d95f51331c1ea26a9254c4e0e3
size 39198
