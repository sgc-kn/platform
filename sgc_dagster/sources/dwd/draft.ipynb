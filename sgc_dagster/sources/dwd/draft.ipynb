version https://git-lfs.github.com/spec/v1
oid sha256:7195d51360128fa188947e999dc5fe74f735e7f476cb4e9d4a78de246205b5c3
size 123910
